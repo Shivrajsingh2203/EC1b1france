{
 "cells": [
  {
   "cell_type": "code",
   "execution_count": 2,
   "id": "86a3d1e1",
   "metadata": {
    "scrolled": true
   },
   "outputs": [
    {
     "ename": "FileNotFoundError",
     "evalue": "[Errno 2] No such file or directory: 'France.xlsx'",
     "output_type": "error",
     "traceback": [
      "\u001b[1;31m---------------------------------------------------------------------------\u001b[0m",
      "\u001b[1;31mFileNotFoundError\u001b[0m                         Traceback (most recent call last)",
      "\u001b[1;32m~\\AppData\\Local\\Temp/ipykernel_31992/2691037719.py\u001b[0m in \u001b[0;36m<module>\u001b[1;34m\u001b[0m\n\u001b[0;32m      1\u001b[0m \u001b[1;32mimport\u001b[0m \u001b[0mpandas\u001b[0m \u001b[1;32mas\u001b[0m \u001b[0mpd\u001b[0m\u001b[1;33m\u001b[0m\u001b[1;33m\u001b[0m\u001b[0m\n\u001b[0;32m      2\u001b[0m \u001b[1;32mimport\u001b[0m \u001b[0mnumpy\u001b[0m \u001b[1;32mas\u001b[0m \u001b[0mnp\u001b[0m\u001b[1;33m\u001b[0m\u001b[1;33m\u001b[0m\u001b[0m\n\u001b[1;32m----> 3\u001b[1;33m \u001b[0mfrance\u001b[0m \u001b[1;33m=\u001b[0m \u001b[0mpd\u001b[0m\u001b[1;33m.\u001b[0m\u001b[0mread_excel\u001b[0m\u001b[1;33m(\u001b[0m\u001b[1;34m'France.xlsx'\u001b[0m\u001b[1;33m)\u001b[0m\u001b[1;33m\u001b[0m\u001b[1;33m\u001b[0m\u001b[0m\n\u001b[0m\u001b[0;32m      4\u001b[0m \u001b[1;31m#importing the raw French data from IMF\u001b[0m\u001b[1;33m\u001b[0m\u001b[1;33m\u001b[0m\u001b[0m\n",
      "\u001b[1;32m~\\anaconda3\\lib\\site-packages\\pandas\\util\\_decorators.py\u001b[0m in \u001b[0;36mwrapper\u001b[1;34m(*args, **kwargs)\u001b[0m\n\u001b[0;32m    309\u001b[0m                     \u001b[0mstacklevel\u001b[0m\u001b[1;33m=\u001b[0m\u001b[0mstacklevel\u001b[0m\u001b[1;33m,\u001b[0m\u001b[1;33m\u001b[0m\u001b[1;33m\u001b[0m\u001b[0m\n\u001b[0;32m    310\u001b[0m                 )\n\u001b[1;32m--> 311\u001b[1;33m             \u001b[1;32mreturn\u001b[0m \u001b[0mfunc\u001b[0m\u001b[1;33m(\u001b[0m\u001b[1;33m*\u001b[0m\u001b[0margs\u001b[0m\u001b[1;33m,\u001b[0m \u001b[1;33m**\u001b[0m\u001b[0mkwargs\u001b[0m\u001b[1;33m)\u001b[0m\u001b[1;33m\u001b[0m\u001b[1;33m\u001b[0m\u001b[0m\n\u001b[0m\u001b[0;32m    312\u001b[0m \u001b[1;33m\u001b[0m\u001b[0m\n\u001b[0;32m    313\u001b[0m         \u001b[1;32mreturn\u001b[0m \u001b[0mwrapper\u001b[0m\u001b[1;33m\u001b[0m\u001b[1;33m\u001b[0m\u001b[0m\n",
      "\u001b[1;32m~\\anaconda3\\lib\\site-packages\\pandas\\io\\excel\\_base.py\u001b[0m in \u001b[0;36mread_excel\u001b[1;34m(io, sheet_name, header, names, index_col, usecols, squeeze, dtype, engine, converters, true_values, false_values, skiprows, nrows, na_values, keep_default_na, na_filter, verbose, parse_dates, date_parser, thousands, comment, skipfooter, convert_float, mangle_dupe_cols, storage_options)\u001b[0m\n\u001b[0;32m    362\u001b[0m     \u001b[1;32mif\u001b[0m \u001b[1;32mnot\u001b[0m \u001b[0misinstance\u001b[0m\u001b[1;33m(\u001b[0m\u001b[0mio\u001b[0m\u001b[1;33m,\u001b[0m \u001b[0mExcelFile\u001b[0m\u001b[1;33m)\u001b[0m\u001b[1;33m:\u001b[0m\u001b[1;33m\u001b[0m\u001b[1;33m\u001b[0m\u001b[0m\n\u001b[0;32m    363\u001b[0m         \u001b[0mshould_close\u001b[0m \u001b[1;33m=\u001b[0m \u001b[1;32mTrue\u001b[0m\u001b[1;33m\u001b[0m\u001b[1;33m\u001b[0m\u001b[0m\n\u001b[1;32m--> 364\u001b[1;33m         \u001b[0mio\u001b[0m \u001b[1;33m=\u001b[0m \u001b[0mExcelFile\u001b[0m\u001b[1;33m(\u001b[0m\u001b[0mio\u001b[0m\u001b[1;33m,\u001b[0m \u001b[0mstorage_options\u001b[0m\u001b[1;33m=\u001b[0m\u001b[0mstorage_options\u001b[0m\u001b[1;33m,\u001b[0m \u001b[0mengine\u001b[0m\u001b[1;33m=\u001b[0m\u001b[0mengine\u001b[0m\u001b[1;33m)\u001b[0m\u001b[1;33m\u001b[0m\u001b[1;33m\u001b[0m\u001b[0m\n\u001b[0m\u001b[0;32m    365\u001b[0m     \u001b[1;32melif\u001b[0m \u001b[0mengine\u001b[0m \u001b[1;32mand\u001b[0m \u001b[0mengine\u001b[0m \u001b[1;33m!=\u001b[0m \u001b[0mio\u001b[0m\u001b[1;33m.\u001b[0m\u001b[0mengine\u001b[0m\u001b[1;33m:\u001b[0m\u001b[1;33m\u001b[0m\u001b[1;33m\u001b[0m\u001b[0m\n\u001b[0;32m    366\u001b[0m         raise ValueError(\n",
      "\u001b[1;32m~\\anaconda3\\lib\\site-packages\\pandas\\io\\excel\\_base.py\u001b[0m in \u001b[0;36m__init__\u001b[1;34m(self, path_or_buffer, engine, storage_options)\u001b[0m\n\u001b[0;32m   1189\u001b[0m                 \u001b[0mext\u001b[0m \u001b[1;33m=\u001b[0m \u001b[1;34m\"xls\"\u001b[0m\u001b[1;33m\u001b[0m\u001b[1;33m\u001b[0m\u001b[0m\n\u001b[0;32m   1190\u001b[0m             \u001b[1;32melse\u001b[0m\u001b[1;33m:\u001b[0m\u001b[1;33m\u001b[0m\u001b[1;33m\u001b[0m\u001b[0m\n\u001b[1;32m-> 1191\u001b[1;33m                 ext = inspect_excel_format(\n\u001b[0m\u001b[0;32m   1192\u001b[0m                     \u001b[0mcontent_or_path\u001b[0m\u001b[1;33m=\u001b[0m\u001b[0mpath_or_buffer\u001b[0m\u001b[1;33m,\u001b[0m \u001b[0mstorage_options\u001b[0m\u001b[1;33m=\u001b[0m\u001b[0mstorage_options\u001b[0m\u001b[1;33m\u001b[0m\u001b[1;33m\u001b[0m\u001b[0m\n\u001b[0;32m   1193\u001b[0m                 )\n",
      "\u001b[1;32m~\\anaconda3\\lib\\site-packages\\pandas\\io\\excel\\_base.py\u001b[0m in \u001b[0;36minspect_excel_format\u001b[1;34m(content_or_path, storage_options)\u001b[0m\n\u001b[0;32m   1068\u001b[0m         \u001b[0mcontent_or_path\u001b[0m \u001b[1;33m=\u001b[0m \u001b[0mBytesIO\u001b[0m\u001b[1;33m(\u001b[0m\u001b[0mcontent_or_path\u001b[0m\u001b[1;33m)\u001b[0m\u001b[1;33m\u001b[0m\u001b[1;33m\u001b[0m\u001b[0m\n\u001b[0;32m   1069\u001b[0m \u001b[1;33m\u001b[0m\u001b[0m\n\u001b[1;32m-> 1070\u001b[1;33m     with get_handle(\n\u001b[0m\u001b[0;32m   1071\u001b[0m         \u001b[0mcontent_or_path\u001b[0m\u001b[1;33m,\u001b[0m \u001b[1;34m\"rb\"\u001b[0m\u001b[1;33m,\u001b[0m \u001b[0mstorage_options\u001b[0m\u001b[1;33m=\u001b[0m\u001b[0mstorage_options\u001b[0m\u001b[1;33m,\u001b[0m \u001b[0mis_text\u001b[0m\u001b[1;33m=\u001b[0m\u001b[1;32mFalse\u001b[0m\u001b[1;33m\u001b[0m\u001b[1;33m\u001b[0m\u001b[0m\n\u001b[0;32m   1072\u001b[0m     ) as handle:\n",
      "\u001b[1;32m~\\anaconda3\\lib\\site-packages\\pandas\\io\\common.py\u001b[0m in \u001b[0;36mget_handle\u001b[1;34m(path_or_buf, mode, encoding, compression, memory_map, is_text, errors, storage_options)\u001b[0m\n\u001b[0;32m    709\u001b[0m         \u001b[1;32melse\u001b[0m\u001b[1;33m:\u001b[0m\u001b[1;33m\u001b[0m\u001b[1;33m\u001b[0m\u001b[0m\n\u001b[0;32m    710\u001b[0m             \u001b[1;31m# Binary mode\u001b[0m\u001b[1;33m\u001b[0m\u001b[1;33m\u001b[0m\u001b[0m\n\u001b[1;32m--> 711\u001b[1;33m             \u001b[0mhandle\u001b[0m \u001b[1;33m=\u001b[0m \u001b[0mopen\u001b[0m\u001b[1;33m(\u001b[0m\u001b[0mhandle\u001b[0m\u001b[1;33m,\u001b[0m \u001b[0mioargs\u001b[0m\u001b[1;33m.\u001b[0m\u001b[0mmode\u001b[0m\u001b[1;33m)\u001b[0m\u001b[1;33m\u001b[0m\u001b[1;33m\u001b[0m\u001b[0m\n\u001b[0m\u001b[0;32m    712\u001b[0m         \u001b[0mhandles\u001b[0m\u001b[1;33m.\u001b[0m\u001b[0mappend\u001b[0m\u001b[1;33m(\u001b[0m\u001b[0mhandle\u001b[0m\u001b[1;33m)\u001b[0m\u001b[1;33m\u001b[0m\u001b[1;33m\u001b[0m\u001b[0m\n\u001b[0;32m    713\u001b[0m \u001b[1;33m\u001b[0m\u001b[0m\n",
      "\u001b[1;31mFileNotFoundError\u001b[0m: [Errno 2] No such file or directory: 'France.xlsx'"
     ]
    }
   ],
   "source": [
    "import pandas as pd\n",
    "import numpy as np\n",
    "france = pd.read_excel('France.xlsx') \n",
    "#importing the raw French data from IMF"
   ]
  },
  {
   "cell_type": "code",
   "execution_count": null,
   "id": "7e1155d4",
   "metadata": {},
   "outputs": [],
   "source": [
    "US = pd.read_excel('USCPI.xlsx')\n",
    "#importing the US CPI data, ready to merge the 2 dataframes"
   ]
  },
  {
   "cell_type": "code",
   "execution_count": null,
   "id": "fb3552f0",
   "metadata": {},
   "outputs": [],
   "source": [
    "merged_df = pd.concat([france, US], axis=1)\n",
    "#merged the 2 dataframes such that the US CPI column is added\n",
    "pd.options.display.max_rows = None\n",
    "#changing the display so all rows are displayed"
   ]
  },
  {
   "cell_type": "code",
   "execution_count": null,
   "id": "b58f2745",
   "metadata": {},
   "outputs": [],
   "source": [
    "import numpy as np\n",
    "#this is to take the natural log of the exchange rate column.\n",
    "merged_df['(i) France: Natural log of the Exchange Rate per U.S. Dollar'] = np.log(merged_df['France: Exchange Rates, National Currency Per U.S. Dollar, Period Average, Rate'])    \n",
    "merged_df"
   ]
  },
  {
   "cell_type": "code",
   "execution_count": null,
   "id": "161aa168",
   "metadata": {
    "scrolled": true
   },
   "outputs": [],
   "source": [
    "#to find the difference between a month and the following month, \n",
    "#We took the column and duplicated it - with a small difference - I shifted every row down by one position. \n",
    "#Let us call the original column 'A' and this duplicated column A but with every row down one position 'B'\n",
    "#Therefore, if the first data entry from A is in row 0, it is now in row 1 of B\n",
    "merged_df[\"Shifted Natural log of the Exchange Rate per U.S. Dollar\"] = merged_df[\"(i) France: Natural log of the Exchange Rate per U.S. Dollar\"].shift(1)\n",
    "#We then created a new column, one for the difference between the consecutive months. \n",
    "#We subtracted the original column values from the shifted ones. this gives the change from one month to the next\n",
    "#For example: if row 1 from A contains the data for month 2, row 1 from B contains the data for month 1. \n",
    "#Therefore, subtracting them gives the monthly change, the difference.\n",
    "merged_df[\"(ii) Monthly difference, Natural log of the Exchange Rate per U.S. Dollar\"] = merged_df[\"(i) France: Natural log of the Exchange Rate per U.S. Dollar\"] - merged_df[\"Shifted Natural log of the Exchange Rate per U.S. Dollar\"]\n",
    "merged_df\n",
    "#row 0 gives a NaN value since the data for the month 0 (ie December 1959), the one before Jan 1960 where our data starts, does not exist/is not included in the dataset."
   ]
  },
  {
   "cell_type": "code",
   "execution_count": null,
   "id": "d9dc93c9",
   "metadata": {},
   "outputs": [],
   "source": [
    "#Following a similar process to finding the monthly difference in the natural log of the exchange rate, I created a new column where all values have been shifted down one row\n",
    "merged_df[\"Shifted French CPI\"] = merged_df[\"France: Prices, Consumer Price Index\"].shift(1)\n",
    "#I then subtracted these shifted values from the original data column\n",
    "merged_df[\"(iii) Monthly inflation rate\"] = (merged_df[\"France: Prices, Consumer Price Index\"] - merged_df[\"Shifted French CPI\"])/(merged_df[\"France: Prices, Consumer Price Index\"])"
   ]
  },
  {
   "cell_type": "code",
   "execution_count": null,
   "id": "7aacaf3e",
   "metadata": {
    "scrolled": true
   },
   "outputs": [],
   "source": [
    "merged_df['(iv) France: Natural log of Industrial Production'] = np.log(merged_df['France: Economic Activity, Industrial Production, Index'])    \n",
    "#created a new column where we have taken logs of each value in the industrial production column"
   ]
  },
  {
   "cell_type": "code",
   "execution_count": null,
   "id": "22627f58",
   "metadata": {},
   "outputs": [],
   "source": [
    "#Following a similar process to the monthly difference in the natural log of the exchange rate, I created a new column where all values have been shifted down one row\n",
    "merged_df[\"Shifted French Industrial production\"] = merged_df[\"(iv) France: Natural log of Industrial Production\"].shift(1)\n",
    "#I then subtracted these shifted values from the original data column\n",
    "merged_df[\"(iii) Monthly growth in industrial production\"] = merged_df[\"(iv) France: Natural log of Industrial Production\"] - merged_df[\"Shifted French Industrial production\"]"
   ]
  },
  {
   "cell_type": "code",
   "execution_count": null,
   "id": "bc1bc6b0",
   "metadata": {},
   "outputs": [],
   "source": [
    "#Following a similar process to the monthly difference in the natural log of the exchange rate, I created a new column where all values have been shifted down 12 rows\n",
    "merged_df[\"Shifted 12 rows French Industrial production\"] = merged_df[\"(iv) France: Natural log of Industrial Production\"].shift(12)\n",
    "#I then subtracted these shifted values from the original data column\n",
    "merged_df[\"(vi) France: Industrial production growth vs previous year\"] = merged_df[\"(iv) France: Natural log of Industrial Production\"] - merged_df[\"Shifted 12 rows French Industrial production\"]"
   ]
  },
  {
   "cell_type": "code",
   "execution_count": null,
   "id": "53b79b69",
   "metadata": {},
   "outputs": [],
   "source": [
    "merged_df['(i) US: Natural log of CPI'] = np.log(merged_df['United States: Prices, Consumer Price Index'])    \n",
    "#Taking the natural log of the US CPI"
   ]
  },
  {
   "cell_type": "code",
   "execution_count": null,
   "id": "28d43da5",
   "metadata": {},
   "outputs": [],
   "source": [
    "#Following a similar process to the monthly difference in the natural log of the exchange rate, I created a new column where all values have been shifted down one row\n",
    "merged_df[\"Shifted US natural log CPI\"] = merged_df[\"United States: Prices, Consumer Price Index\"].shift(1)\n",
    "#I then subtracted these shifted values from the original data column\n",
    "merged_df[\"(iii) Monthly difference in the inflation rate\"] = merged_df[\"United States: Prices, Consumer Price Index\"] - merged_df[\"Shifted US natural log CPI\"]"
   ]
  },
  {
   "cell_type": "code",
   "execution_count": null,
   "id": "f06f1216",
   "metadata": {},
   "outputs": [],
   "source": [
    "stripped_df = merged_df.drop(['Shifted Natural log of the Exchange Rate per U.S. Dollar',\n",
    "                             'Shifted French CPI', \n",
    "                             'Shifted French Industrial production', \n",
    "                             'Shifted 12 rows French Industrial production', \n",
    "                             'Shifted US natural log CPI'], \n",
    "                            axis=1)\n",
    "stripped_df\n",
    "#This step is to strip away all these extra columns. \n",
    "#These columns are the colunmns where all the data values have been shifted down\n",
    "#They were used as part of the process to find monthly differences\n",
    "#However, now that we have the final column, we do not require these and keeping them would clutter the dataframe."
   ]
  },
  {
   "cell_type": "code",
   "execution_count": null,
   "id": "80ae411f",
   "metadata": {},
   "outputs": [],
   "source": [
    "stripped_df.isnull().sum() \n",
    "# This is to check the number of missing values in the dataset."
   ]
  },
  {
   "cell_type": "code",
   "execution_count": null,
   "id": "9b6788be",
   "metadata": {},
   "outputs": [],
   "source": [
    "def outlier_limits(col):\n",
    "    Top99_5, Lowest0_5 = np.nanpercentile(col, [99.5, 0.5])\n",
    "    Upper_limit = Top99_5\n",
    "    Lower_limit = Lowest0_5\n",
    "    return Upper_limit, Lower_limit\n",
    "\n",
    "#We defined top 0.5% and bottom 0.5% as outliers"
   ]
  },
  {
   "cell_type": "code",
   "execution_count": null,
   "id": "5e320619",
   "metadata": {},
   "outputs": [],
   "source": [
    "for column in stripped_df.columns:\n",
    "    if stripped_df[column].dtype != 'object':\n",
    "        Upper_limit, Lower_limit = outlier_limits(stripped_df[column])\n",
    "        stripped_df[column] = np.where((stripped_df[column] > Upper_limit)| (stripped_df[column] < Lower_limit), np.nan, stripped_df[column])\n",
    "        \n",
    " # We want to make these outliers missing value"
   ]
  },
  {
   "cell_type": "code",
   "execution_count": null,
   "id": "c369c192",
   "metadata": {},
   "outputs": [],
   "source": [
    "stripped_df.isnull().sum()\n",
    "# this tells us the number of missing values after converting outliers into missing value. \n",
    "# The difference in missing value after and before tells us the number of outliers identified."
   ]
  },
  {
   "cell_type": "code",
   "execution_count": null,
   "id": "fd75602c",
   "metadata": {},
   "outputs": [],
   "source": [
    "new_stripped_df = stripped_df.interpolate()\n",
    "new_stripped_df.isnull().sum()\n",
    "#Using linear interpolation, we can fill in the missing values.\n",
    "#Checking the number of missing values after linear interpolation."
   ]
  },
  {
   "cell_type": "code",
   "execution_count": null,
   "id": "10edd956",
   "metadata": {},
   "outputs": [],
   "source": [
    "#To construct a series for monthly real exchange rate growth, where the real exchange rate is measured for your country relative to the united states\n",
    "#creating a new column for real exchange rates. formula from LT 5 is nominal*price in US / price in France\n",
    "new_stripped_df['Nominal exchange rate * US prices'] = new_stripped_df['France: Exchange Rates, National Currency Per U.S. Dollar, Period Average, Rate'] * new_stripped_df['United States: Prices, Consumer Price Index']\n",
    "new_stripped_df['Monthly real exchange rate'] = new_stripped_df['Nominal exchange rate * US prices'] / new_stripped_df['France: Prices, Consumer Price Index']\n"
   ]
  },
  {
   "cell_type": "code",
   "execution_count": null,
   "id": "1d300edd",
   "metadata": {},
   "outputs": [],
   "source": [
    "#France monthly exchange rate growth\n",
    "\n",
    "new_stripped_df['France: Monthly real exchange rate growth']= np.log(new_stripped_df['Monthly real exchange rate']) - np.log(new_stripped_df['Monthly real exchange rate']).shift(1)"
   ]
  },
  {
   "cell_type": "code",
   "execution_count": null,
   "id": "9d38f80b",
   "metadata": {},
   "outputs": [],
   "source": [
    "import matplotlib.pyplot as plt\n",
    "from datetime import datetime\n",
    "from dateutil.relativedelta import relativedelta\n",
    "from matplotlib.dates import YearLocator, DateFormatter\n",
    "f, ax = plt.subplots(figsize = [12, 7])\n",
    "tempdf = pd.DataFrame({\"val\": list(range(372))})\n",
    "tempdf[\"dates\"] = [datetime(1960,1,31) + relativedelta(months=x) for x in range(0,372)]\n",
    "x = tempdf[\"dates\"]\n",
    "y = new_stripped_df[\"(iii) Monthly growth in industrial production\"]\n",
    "plt.scatter(x, y)\n",
    "ax.xaxis.set_major_locator(YearLocator(5))\n",
    "#labels every 5 years on x axis to not clutter\n",
    "ax.xaxis.set_major_formatter(DateFormatter(\"%Y\"))"
   ]
  },
  {
   "cell_type": "code",
   "execution_count": null,
   "id": "73b1fe8b",
   "metadata": {},
   "outputs": [],
   "source": [
    "(new_stripped_df)"
   ]
  },
  {
   "cell_type": "code",
   "execution_count": null,
   "id": "df4211c4",
   "metadata": {
    "scrolled": false
   },
   "outputs": [],
   "source": [
    "f, ax = plt.subplots(figsize = [12, 7])\n",
    "plt.title(\"Monthly Nominal Exchange Rate Growth\")\n",
    "plt.xlabel(\"Year\")\n",
    "plt.ylabel(\"Monthly Nomianl Exchange Rate Growth (%)\")\n",
    "ax.plot(tempdf[\"dates\"], new_stripped_df['(ii) Monthly difference, Natural log of the Exchange Rate per U.S. Dollar'])\n",
    "nobretton = datetime(1971,8,15)\n",
    "ax.vlines(nobretton,-0.1, 0.1, linestyles='dashed', colors='red',label = \"France left BW\")\n",
    "#date Bretton Woods ended\n",
    "ax.xaxis.set_major_locator(YearLocator(5))\n",
    "#labels every 5 years on x axis to not clutter\n",
    "ax.xaxis.set_major_formatter(DateFormatter(\"%Y\"))\n",
    "ax.legend()\n",
    "\n"
   ]
  },
  {
   "cell_type": "code",
   "execution_count": null,
   "id": "bb05f16e",
   "metadata": {},
   "outputs": [],
   "source": [
    "f, ax = plt.subplots(figsize = [12, 7])\n",
    "plt.title(\"Monthly Real Exchange Rate Growth\")\n",
    "plt.xlabel(\"Year\")\n",
    "plt.ylabel(\"Monthly Nomianl Exchange Rate Growth (%)\")\n",
    "ax.plot(tempdf[\"dates\"], new_stripped_df['France: Monthly real exchange rate growth'])\n",
    "nobretton = datetime(1971,8,15)\n",
    "ax.vlines(nobretton,-0.1, 0.1, linestyles='dashed', colors='red',label = \"France left BW\")\n",
    "#date Bretton Woods ended\n",
    "ax.xaxis.set_major_locator(YearLocator(5))\n",
    "#labels every 5 years on x axis to not clutter\n",
    "ax.xaxis.set_major_formatter(DateFormatter(\"%Y\"))\n",
    "ax.legend()\n",
    "\n"
   ]
  },
  {
   "cell_type": "code",
   "execution_count": null,
   "id": "54cd7bc9",
   "metadata": {},
   "outputs": [],
   "source": [
    "f, ax = plt.subplots(figsize = [12, 7])\n",
    "plt.title(\"Monthly Inflation Rate\")\n",
    "plt.xlabel(\"Year\")\n",
    "plt.ylabel(\"Inflation rate(%)\")\n",
    "ax.plot(tempdf[\"dates\"], new_stripped_df['(iii) Monthly difference in the inflation rate'])\n",
    "ax.vlines(nobretton,-0.2, 0.6, linestyles='dashed', colors='red',label = \"France left BW\")\n",
    "ax.xaxis.set_major_locator(YearLocator(5))\n",
    "#labels every 5 years on x axis to not clutter\n",
    "ax.xaxis.set_major_formatter(DateFormatter(\"%Y\"))\n",
    "ax.legend()"
   ]
  },
  {
   "cell_type": "code",
   "execution_count": null,
   "id": "1b92a913",
   "metadata": {},
   "outputs": [],
   "source": [
    "f, ax = plt.subplots(figsize = [12, 7])\n",
    "plt.title(\"Monthly Industrial Production Growth\")\n",
    "plt.xlabel(\"Year\")\n",
    "plt.ylabel(\"Industrial production growth (%)\")\n",
    "ax.plot(tempdf[\"dates\"], new_stripped_df['(iii) Monthly growth in industrial production'])\n",
    "ax.vlines(nobretton,-0.5, 0.6, linestyles='dashed', colors='red',label = \"France left BW\")\n",
    "ax.xaxis.set_major_locator(YearLocator(5))\n",
    "#labels every 5 years on x axis to not clutter\n",
    "ax.xaxis.set_major_formatter(DateFormatter(\"%Y\"))\n",
    "ax.legend()"
   ]
  },
  {
   "cell_type": "code",
   "execution_count": null,
   "id": "d1aa730a",
   "metadata": {},
   "outputs": [],
   "source": [
    "f, ax = plt.subplots(figsize = [12, 7])\n",
    "plt.title(\"Yearly Industrial Production Growth\")\n",
    "plt.xlabel(\"Year\")\n",
    "plt.ylabel(\"Yearly Industrial Production Growth (%)\")\n",
    "ax.plot(tempdf[\"dates\"], new_stripped_df['(vi) France: Industrial production growth vs previous year'])\n",
    "ax.vlines(nobretton,-0.2, 0.3, linestyles='dashed', colors='red',label = \"France left BW\")\n",
    "ax.xaxis.set_major_locator(YearLocator(5))\n",
    "#labels every 5 years on x axis to not clutter\n",
    "ax.xaxis.set_major_formatter(DateFormatter(\"%Y\"))\n",
    "ax.legend()"
   ]
  },
  {
   "cell_type": "code",
   "execution_count": null,
   "id": "d2c32780",
   "metadata": {},
   "outputs": [],
   "source": [
    "new_stripped_df[0:127].std(skipna=True, numeric_only=True)\n",
    "#standard deviations of before leaving bretton woods excluding year before"
   ]
  },
  {
   "cell_type": "code",
   "execution_count": null,
   "id": "db453524",
   "metadata": {
    "scrolled": true
   },
   "outputs": [],
   "source": [
    "new_stripped_df[152:].std(skipna=True, numeric_only=True)\n",
    "#standard deviations of after leaving bretton woods excluding year after"
   ]
  },
  {
   "cell_type": "code",
   "execution_count": null,
   "id": "8db1f50b",
   "metadata": {},
   "outputs": [],
   "source": [
    "final_df = new_stripped_df.drop(['Nominal exchange rate * US prices'], axis=1)"
   ]
  },
  {
   "cell_type": "code",
   "execution_count": null,
   "id": "8ed4f3c0",
   "metadata": {},
   "outputs": [],
   "source": [
    "final_df.rename(columns={'France: Economic Activity, Industrial Production, Index': 'France: Industrial Production',\n",
    "                         'France: Exchange Rates, National Currency Per U.S. Dollar, Period Average, Rate': 'France: Nominal ER, USD',\n",
    "                         'France: Prices, Consumer Price Index': 'France: CPI',\n",
    "                         'United States: Prices, Consumer Price Index': 'US: CPI',\n",
    "                         '(i) France: Natural log of the Exchange Rate per U.S. Dollar': '(i) France: Nlog ER, USD',\n",
    "                         '(ii) Monthly difference, Natural log of the Exchange Rate per U.S. Dollar': '(ii) France: Monthly difference, Nlog ER, USD',\n",
    "                         '(iv) France: Natural log of Industrial Production': '(iv) France: Nlog Industrial Production',\n",
    "                         '(iii) Monthly growth in industrial production': '(v) France: Monthly growth in industrial production',\n",
    "                         '(i) US: Natural log of CPI': 'US: Nlog CPI',\n",
    "                         'Monthly real exchange rate': 'France: Monthly real ER'}, inplace=True)\n",
    "\n",
    "#Note that 'ER' stands for Exchange rate\n",
    "#Note that 'Nlog' stands for Natural log of\n",
    "#This step was just to rename some lengthy column names which were a bit of a mouthful."
   ]
  },
  {
   "cell_type": "code",
   "execution_count": null,
   "id": "7bcd146f",
   "metadata": {},
   "outputs": [],
   "source": [
    "final_df.index = final_df['Month']\n",
    "final_df = final_df.drop(['Month'], axis=1)\n",
    "final_df"
   ]
  },
  {
   "cell_type": "code",
   "execution_count": null,
   "id": "8eb5ff19",
   "metadata": {},
   "outputs": [],
   "source": [
    "final_df['France-US difference in inflation'] = final_df['(iii) Monthly inflation rate'] - final_df['(iii) Monthly difference in the inflation rate']\n",
    "#Dataset for \n",
    "final_dfBeforeLeaving = final_df.loc['Jan 1960':'Aug 1970']\n",
    "final_dfAfterLeaving = final_df.loc['Aug 1972':'Dec 1990']\n",
    "BrettonWoods_variables = ['(ii) France: Monthly difference, Nlog ER, USD','France: Monthly real exchange rate growth','(ii) France: Monthly difference, Nlog ER, USD','France-US difference in inflation','(vi) France: Industrial production growth vs previous year']\n",
    "x = final_dfBeforeLeaving[BrettonWoods_variables].std()\n",
    "y = final_dfAfterLeaving[BrettonWoods_variables].std()\n",
    "q=x/y\n",
    "results = pd.DataFrame({\"BEFORE\":[],\"AFTER\":[],\"RATIO\":[]})\n",
    "for i in range(len(BrettonWoods_variables)):\n",
    "    results.loc[BrettonWoods_variables[i]] = [x[i],y[i],q[i]] \n",
    "results\n",
    "\n",
    "\n"
   ]
  },
  {
   "cell_type": "code",
   "execution_count": null,
   "id": "0610c404",
   "metadata": {},
   "outputs": [],
   "source": []
  }
 ],
 "metadata": {
  "kernelspec": {
   "display_name": "Python 3 (ipykernel)",
   "language": "python",
   "name": "python3"
  },
  "language_info": {
   "codemirror_mode": {
    "name": "ipython",
    "version": 3
   },
   "file_extension": ".py",
   "mimetype": "text/x-python",
   "name": "python",
   "nbconvert_exporter": "python",
   "pygments_lexer": "ipython3",
   "version": "3.9.7"
  }
 },
 "nbformat": 4,
 "nbformat_minor": 5
}
